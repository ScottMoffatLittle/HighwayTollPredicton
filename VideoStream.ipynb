{
 "cells": [
  {
   "cell_type": "code",
   "execution_count": null,
   "metadata": {},
   "outputs": [],
   "source": [
    "#import librtmp\n",
    "import m3u8"
   ]
  },
  {
   "cell_type": "code",
   "execution_count": null,
   "metadata": {},
   "outputs": [],
   "source": [
    "m3u8_obj = m3u8.load('http://s13.us-east-1.skyvdn.com:1935/rtplive/HamptonRoads885/playlist.m3u8')  # this could also be an absolute filename\n",
    "print(m3u8_obj.segments)\n",
    "print(m3u8_obj.target_duration)\n",
    "\n",
    "# if you already have the content as string, use\n",
    "\n",
    "m3u8_obj = m3u8.loads('chunklist_w276778709.m3u8')\n",
    "print(m3u8_obj.segments)\n",
    "print(m3u8_obj.target_duration)"
   ]
  },
  {
   "cell_type": "code",
   "execution_count": null,
   "metadata": {},
   "outputs": [],
   "source": []
  },
  {
   "cell_type": "code",
   "execution_count": null,
   "metadata": {},
   "outputs": [],
   "source": [
    "import cv2\n",
    "vcap = cv2.VideoCapture(\"rtmp://s17.us-east-1.skyvdn.com:1935/rtplive/FairfaxVideo0190\")\n",
    "while(1):\n",
    "    ret, frame = vcap.read()\n",
    "    cv2.imshow('VIDEO', frame)\n",
    "    cv2.waitKey(1)"
   ]
  },
  {
   "cell_type": "code",
   "execution_count": null,
   "metadata": {},
   "outputs": [],
   "source": []
  }
 ],
 "metadata": {
  "kernelspec": {
   "display_name": "Python 3",
   "language": "python",
   "name": "python3"
  },
  "language_info": {
   "codemirror_mode": {
    "name": "ipython",
    "version": 3
   },
   "file_extension": ".py",
   "mimetype": "text/x-python",
   "name": "python",
   "nbconvert_exporter": "python",
   "pygments_lexer": "ipython3",
   "version": "3.7.3"
  }
 },
 "nbformat": 4,
 "nbformat_minor": 2
}
