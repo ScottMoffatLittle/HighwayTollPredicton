{
 "cells": [
  {
   "cell_type": "code",
   "execution_count": 2,
   "metadata": {},
   "outputs": [],
   "source": [
    "import xml.etree.ElementTree as ET\n",
    "import pandas as pd\n",
    "import os\n",
    "import csv"
   ]
  },
  {
   "cell_type": "code",
   "execution_count": 3,
   "metadata": {},
   "outputs": [
    {
     "ename": "ParseError",
     "evalue": "syntax error: line 1, column 0 (<string>)",
     "output_type": "error",
     "traceback": [
      "Traceback \u001b[0;36m(most recent call last)\u001b[0m:\n",
      "  File \u001b[1;32m\"/home/slittle/anaconda3/lib/python3.7/site-packages/IPython/core/interactiveshell.py\"\u001b[0m, line \u001b[1;32m3296\u001b[0m, in \u001b[1;35mrun_code\u001b[0m\n    exec(code_obj, self.user_global_ns, self.user_ns)\n",
      "  File \u001b[1;32m\"<ipython-input-3-875c5fcf688a>\"\u001b[0m, line \u001b[1;32m3\u001b[0m, in \u001b[1;35m<module>\u001b[0m\n    root = ET.parse(path).getroot()\n",
      "  File \u001b[1;32m\"/home/slittle/anaconda3/lib/python3.7/xml/etree/ElementTree.py\"\u001b[0m, line \u001b[1;32m1197\u001b[0m, in \u001b[1;35mparse\u001b[0m\n    tree.parse(source, parser)\n",
      "\u001b[0;36m  File \u001b[0;32m\"/home/slittle/anaconda3/lib/python3.7/xml/etree/ElementTree.py\"\u001b[0;36m, line \u001b[0;32m598\u001b[0;36m, in \u001b[0;35mparse\u001b[0;36m\u001b[0m\n\u001b[0;31m    self._root = parser._parse_whole(source)\u001b[0m\n",
      "\u001b[0;36m  File \u001b[0;32m\"<string>\"\u001b[0;36m, line \u001b[0;32munknown\u001b[0m\n\u001b[0;31mParseError\u001b[0m\u001b[0;31m:\u001b[0m syntax error: line 1, column 0\n"
     ]
    }
   ],
   "source": [
    "rows = []\n",
    "for path in os.scandir('data'):\n",
    "    root = ET.parse(path).getroot()\n",
    "    for elem in root:\n",
    "        tag = {}\n",
    "        tag[\"EndZoneID\"] = elem.attrib['EndZoneID']\n",
    "        tag[\"StartZoneID\"] = elem.attrib['StartZoneID']\n",
    "        tag[\"StartDateTime\"] = elem.attrib['IntervalDateTime']\n",
    "        tag[\"EndDateTime\"] = elem.attrib['IntervalEndDateTime']\n",
    "        tag[\"TollRate\"] = elem.attrib['ZoneTollRate']\n",
    "        tag[\"Direction\"] = elem.attrib['CorridorID']\n",
    "\n",
    "        rows.append(tag)"
   ]
  },
  {
   "cell_type": "code",
   "execution_count": 4,
   "metadata": {},
   "outputs": [],
   "source": [
    "keys = rows[0].keys()"
   ]
  },
  {
   "cell_type": "code",
   "execution_count": 5,
   "metadata": {},
   "outputs": [],
   "source": [
    "with open('csv_files/tolls.csv', 'w') as output_file:\n",
    "    dict_writer = csv.DictWriter(output_file, keys)\n",
    "    dict_writer.writeheader()\n",
    "    dict_writer.writerows(rows)"
   ]
  },
  {
   "cell_type": "code",
   "execution_count": null,
   "metadata": {},
   "outputs": [],
   "source": []
  }
 ],
 "metadata": {
  "kernelspec": {
   "display_name": "Python 3",
   "language": "python",
   "name": "python3"
  },
  "language_info": {
   "codemirror_mode": {
    "name": "ipython",
    "version": 3
   },
   "file_extension": ".py",
   "mimetype": "text/x-python",
   "name": "python",
   "nbconvert_exporter": "python",
   "pygments_lexer": "ipython3",
   "version": "3.7.3"
  }
 },
 "nbformat": 4,
 "nbformat_minor": 2
}
